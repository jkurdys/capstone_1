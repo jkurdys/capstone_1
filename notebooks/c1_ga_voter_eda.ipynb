{
 "cells": [
  {
   "cell_type": "markdown",
   "metadata": {},
   "source": [
    "# Imports"
   ]
  },
  {
   "cell_type": "code",
   "execution_count": 1,
   "metadata": {},
   "outputs": [],
   "source": [
    "import pandas as pd\n",
    "import numpy as np\n",
    "import matplotlib.pyplot as plt\n",
    "import scipy.stats as stats\n",
    "\n",
    "plt.style.use('ggplot')"
   ]
  },
  {
   "cell_type": "markdown",
   "metadata": {},
   "source": [
    "# Reading-in Files and Totals"
   ]
  },
  {
   "cell_type": "code",
   "execution_count": 2,
   "metadata": {},
   "outputs": [
    {
     "name": "stderr",
     "output_type": "stream",
     "text": [
      "/opt/anaconda3/lib/python3.7/site-packages/IPython/core/interactiveshell.py:3156: DtypeWarning: Columns (4,9,10,11,18,19,20,21,29,39) have mixed types.Specify dtype option on import or set low_memory=False.\n",
      "  interactivity=interactivity, compiler=compiler, result=result)\n",
      "/opt/anaconda3/lib/python3.7/site-packages/IPython/core/interactiveshell.py:3156: DtypeWarning: Columns (4,9,10,11,39) have mixed types.Specify dtype option on import or set low_memory=False.\n",
      "  interactivity=interactivity, compiler=compiler, result=result)\n"
     ]
    }
   ],
   "source": [
    "oct_all = pd.read_csv('downloads/georgia_arch/tbl_prod_GABU202010_all.csv', sep= '|')\n",
    "nov_all = pd.read_csv('downloads/georgia_arch/tbl_prod_GABU202011_all.csv', sep= '|')\n",
    "dec_all = pd.read_csv('downloads/georgia_arch/tbl_prod_GABU202012_all.csv', sep= '|')"
   ]
  },
  {
   "cell_type": "code",
   "execution_count": 3,
   "metadata": {},
   "outputs": [
    {
     "data": {
      "text/plain": [
       "(7635246, 7665238, 7729838)"
      ]
     },
     "execution_count": 3,
     "metadata": {},
     "output_type": "execute_result"
    }
   ],
   "source": [
    "oct_state_tot = oct_all['registration_number'].count()\n",
    "nov_state_tot = nov_all['registration_number'].count()\n",
    "dec_state_tot = dec_all['registration_number'].count()\n",
    "oct_state_tot, nov_state_tot, dec_state_tot"
   ]
  },
  {
   "cell_type": "code",
   "execution_count": 4,
   "metadata": {},
   "outputs": [
    {
     "name": "stderr",
     "output_type": "stream",
     "text": [
      "/opt/anaconda3/lib/python3.7/site-packages/IPython/core/interactiveshell.py:3156: DtypeWarning: Columns (9,11) have mixed types.Specify dtype option on import or set low_memory=False.\n",
      "  interactivity=interactivity, compiler=compiler, result=result)\n",
      "/opt/anaconda3/lib/python3.7/site-packages/IPython/core/interactiveshell.py:3156: DtypeWarning: Columns (10,11) have mixed types.Specify dtype option on import or set low_memory=False.\n",
      "  interactivity=interactivity, compiler=compiler, result=result)\n",
      "/opt/anaconda3/lib/python3.7/site-packages/IPython/core/interactiveshell.py:3156: DtypeWarning: Columns (9,39) have mixed types.Specify dtype option on import or set low_memory=False.\n",
      "  interactivity=interactivity, compiler=compiler, result=result)\n"
     ]
    }
   ],
   "source": [
    "oct_adds = pd.read_csv('downloads/georgia_arch/tbl_prod_GABU202010_new_records.csv', sep= '|')\n",
    "nov_adds = pd.read_csv('downloads/georgia_arch/tbl_prod_GABU202011_new_records.csv', sep= '|')\n",
    "dec_adds = pd.read_csv('downloads/georgia_arch/tbl_prod_GABU202012_new_records.csv', sep= '|')"
   ]
  },
  {
   "cell_type": "code",
   "execution_count": 5,
   "metadata": {},
   "outputs": [
    {
     "data": {
      "text/plain": [
       "(162243, 40751, 71541)"
      ]
     },
     "execution_count": 5,
     "metadata": {},
     "output_type": "execute_result"
    }
   ],
   "source": [
    "oct_state_adds = oct_adds['registration_number'].count()\n",
    "nov_state_adds = nov_adds['registration_number'].count()\n",
    "dec_state_adds = dec_adds['registration_number'].count()\n",
    "oct_state_adds, nov_state_adds, dec_state_adds"
   ]
  },
  {
   "cell_type": "code",
   "execution_count": 6,
   "metadata": {},
   "outputs": [],
   "source": [
    "oct_drops = pd.read_csv('downloads/georgia_arch/tbl_prod_GABU202010_dropped_records.csv', sep= '|')\n",
    "nov_drops = pd.read_csv('downloads/georgia_arch/tbl_prod_GABU202011_dropped_records.csv', sep= '|')\n",
    "dec_drops = pd.read_csv('downloads/georgia_arch/tbl_prod_GABU202012_dropped_records.csv', sep= '|')"
   ]
  },
  {
   "cell_type": "code",
   "execution_count": 7,
   "metadata": {},
   "outputs": [
    {
     "data": {
      "text/plain": [
       "(16285, 10759, 6941)"
      ]
     },
     "execution_count": 7,
     "metadata": {},
     "output_type": "execute_result"
    }
   ],
   "source": [
    "oct_state_drops = oct_drops['registration_number'].count()\n",
    "nov_state_drops = nov_drops['registration_number'].count()\n",
    "dec_state_drops = dec_drops['registration_number'].count()\n",
    "oct_state_drops, nov_state_drops, dec_state_drops"
   ]
  },
  {
   "cell_type": "markdown",
   "metadata": {},
   "source": [
    "# State-level operations (net and mean)"
   ]
  },
  {
   "cell_type": "code",
   "execution_count": 8,
   "metadata": {},
   "outputs": [
    {
     "data": {
      "text/plain": [
       "(145958, 29992, 64600)"
      ]
     },
     "execution_count": 8,
     "metadata": {},
     "output_type": "execute_result"
    }
   ],
   "source": [
    "oct_state_net = oct_state_adds - oct_state_drops\n",
    "nov_state_net = nov_state_adds - nov_state_drops\n",
    "dec_state_net = dec_state_adds - dec_state_drops\n",
    "oct_state_net, nov_state_net, dec_state_net"
   ]
  },
  {
   "cell_type": "code",
   "execution_count": 9,
   "metadata": {},
   "outputs": [
    {
     "data": {
      "text/plain": [
       "(0.02124921711756242, 0.005316338514211822, 0.009255174558638874)"
      ]
     },
     "execution_count": 9,
     "metadata": {},
     "output_type": "execute_result"
    }
   ],
   "source": [
    "oct_mean_adds_state = oct_state_adds / oct_state_tot\n",
    "nov_mean_adds_state = nov_state_adds / nov_state_tot\n",
    "dec_mean_adds_state = dec_state_adds / dec_state_tot\n",
    "oct_mean_adds_state, nov_mean_adds_state, dec_mean_adds_state"
   ]
  },
  {
   "cell_type": "code",
   "execution_count": 10,
   "metadata": {},
   "outputs": [
    {
     "data": {
      "text/plain": [
       "(0.0021328716848153942, 0.0014036093856446467, 0.0008979489608967225)"
      ]
     },
     "execution_count": 10,
     "metadata": {},
     "output_type": "execute_result"
    }
   ],
   "source": [
    "oct_mean_drops_state = oct_state_drops / oct_state_tot\n",
    "nov_mean_drops_state = nov_state_drops / nov_state_tot\n",
    "dec_mean_drops_state = dec_state_drops / dec_state_tot\n",
    "oct_mean_drops_state, nov_mean_drops_state, dec_mean_drops_state"
   ]
  },
  {
   "cell_type": "code",
   "execution_count": 11,
   "metadata": {},
   "outputs": [
    {
     "data": {
      "text/plain": [
       "(0.019116345432747026, 0.003912729128567175, 0.008357225597742152)"
      ]
     },
     "execution_count": 11,
     "metadata": {},
     "output_type": "execute_result"
    }
   ],
   "source": [
    "oct_mean_net_state = oct_state_net / oct_state_tot\n",
    "nov_mean_net_state = nov_state_net / nov_state_tot\n",
    "dec_mean_net_state = dec_state_net / dec_state_tot\n",
    "oct_mean_net_state, nov_mean_net_state, dec_mean_net_state"
   ]
  },
  {
   "cell_type": "markdown",
   "metadata": {},
   "source": [
    "# Geographic subgroups (county-level totals)"
   ]
  },
  {
   "cell_type": "code",
   "execution_count": 12,
   "metadata": {},
   "outputs": [],
   "source": [
    "oct_county_tots = oct_all.groupby('county_code').count()['registration_number']\n",
    "nov_county_tots = nov_all.groupby('county_code').count()['registration_number']\n",
    "dec_county_tots = dec_all.groupby('county_code').count()['registration_number']\n"
   ]
  },
  {
   "cell_type": "code",
   "execution_count": 13,
   "metadata": {},
   "outputs": [
    {
     "data": {
      "image/png": "[encoded data removed]",
      "text/plain": [
       "<Figure size 864x432 with 1 Axes>"
      ]
     },
     "metadata": {},
     "output_type": "display_data"
    }
   ],
   "source": [
    "# histogram of registered voters by county shows largest concentration of very small counties,\n",
    "# with a few very large counties.\n",
    "oct_county_tots.hist(bins=159, figsize=(12,6));"
   ]
  },
  {
   "cell_type": "code",
   "execution_count": 14,
   "metadata": {},
   "outputs": [],
   "source": [
    "oct_county_adds = oct_adds.groupby('county_code').count()['registration_number']\n",
    "nov_county_adds = nov_adds.groupby('county_code').count()['registration_number']\n",
    "dec_county_adds = dec_adds.groupby('county_code').count()['registration_number']"
   ]
  },
  {
   "cell_type": "code",
   "execution_count": 15,
   "metadata": {},
   "outputs": [
    {
     "data": {
      "image/png": "[encoded data removed]",
      "text/plain": [
       "<Figure size 864x432 with 1 Axes>"
      ]
     },
     "metadata": {},
     "output_type": "display_data"
    }
   ],
   "source": [
    "# Number of added registrations perfectly tracks total registrations by county\n",
    "oct_county_adds.hist(bins=159, figsize=(12,6));"
   ]
  },
  {
   "cell_type": "code",
   "execution_count": 16,
   "metadata": {},
   "outputs": [],
   "source": [
    "oct_county_drops = oct_drops.groupby('county_code').count()['registration_number']\n",
    "nov_county_drops = nov_drops.groupby('county_code').count()['registration_number']\n",
    "dec_county_drops = dec_drops.groupby('county_code').count()['registration_number']"
   ]
  },
  {
   "cell_type": "markdown",
   "metadata": {},
   "source": [
    "# County-level operations (net and mean)"
   ]
  },
  {
   "cell_type": "code",
   "execution_count": 17,
   "metadata": {},
   "outputs": [],
   "source": [
    "oct_county_net = oct_county_adds - oct_county_drops\n",
    "nov_county_net = nov_county_adds - nov_county_drops\n",
    "dec_county_net = dec_county_adds - dec_county_drops"
   ]
  },
  {
   "cell_type": "code",
   "execution_count": 18,
   "metadata": {},
   "outputs": [],
   "source": [
    "oct_county_mean_adds = oct_county_adds / oct_county_tots\n",
    "nov_county_mean_adds = nov_county_adds / nov_county_tots\n",
    "dec_county_mean_adds = dec_county_adds / dec_county_tots"
   ]
  },
  {
   "cell_type": "code",
   "execution_count": 19,
   "metadata": {},
   "outputs": [],
   "source": [
    "oct_county_mean_drops = oct_county_drops / oct_county_tots\n",
    "nov_county_mean_drops = nov_county_drops / nov_county_tots\n",
    "dec_county_mean_drops = dec_county_drops / dec_county_tots"
   ]
  },
  {
   "cell_type": "code",
   "execution_count": 20,
   "metadata": {},
   "outputs": [],
   "source": [
    "oct_county_mean_net = oct_county_net / oct_county_tots\n",
    "nov_county_mean_net = nov_county_net / nov_county_tots\n",
    "dec_county_mean_net = dec_county_net / dec_county_tots"
   ]
  },
  {
   "cell_type": "markdown",
   "metadata": {},
   "source": [
    "# Demographic subgroups (gender totals)"
   ]
  },
  {
   "cell_type": "code",
   "execution_count": 21,
   "metadata": {},
   "outputs": [
    {
     "data": {
      "text/plain": [
       "(gender\n",
       " F    4056072\n",
       " M    3562251\n",
       " O      16923\n",
       " Name: registration_number, dtype: int64,\n",
       " gender\n",
       " F    4071043\n",
       " M    3577000\n",
       " O      17195\n",
       " Name: registration_number, dtype: int64,\n",
       " gender\n",
       " F    4101567\n",
       " M    3610476\n",
       " O      17795\n",
       " Name: registration_number, dtype: int64)"
      ]
     },
     "execution_count": 21,
     "metadata": {},
     "output_type": "execute_result"
    }
   ],
   "source": [
    "oct_gender_tots = oct_all.groupby('gender').count()['registration_number']\n",
    "nov_gender_tots = nov_all.groupby('gender').count()['registration_number']\n",
    "dec_gender_tots = dec_all.groupby('gender').count()['registration_number']\n",
    "oct_gender_tots, nov_gender_tots, dec_gender_tots"
   ]
  },
  {
   "cell_type": "code",
   "execution_count": 22,
   "metadata": {},
   "outputs": [
    {
     "data": {
      "text/plain": [
       "(gender\n",
       " F    78714\n",
       " M    81572\n",
       " O     1957\n",
       " Name: registration_number, dtype: int64,\n",
       " gender\n",
       " F    19714\n",
       " M    20709\n",
       " O      328\n",
       " Name: registration_number, dtype: int64,\n",
       " gender\n",
       " F    33883\n",
       " M    37032\n",
       " O      626\n",
       " Name: registration_number, dtype: int64)"
      ]
     },
     "execution_count": 22,
     "metadata": {},
     "output_type": "execute_result"
    }
   ],
   "source": [
    "oct_gender_adds = oct_adds.groupby('gender').count()['registration_number']\n",
    "nov_gender_adds = nov_adds.groupby('gender').count()['registration_number']\n",
    "dec_gender_adds = dec_adds.groupby('gender').count()['registration_number']\n",
    "oct_gender_adds, nov_gender_adds, dec_gender_adds"
   ]
  },
  {
   "cell_type": "code",
   "execution_count": 23,
   "metadata": {},
   "outputs": [
    {
     "data": {
      "text/plain": [
       "(gender\n",
       " F    7389\n",
       " M    8857\n",
       " O      39\n",
       " Name: registration_number, dtype: int64,\n",
       " gender\n",
       " F    4763\n",
       " M    5928\n",
       " O      68\n",
       " Name: registration_number, dtype: int64,\n",
       " gender\n",
       " F    3361\n",
       " M    3543\n",
       " O      37\n",
       " Name: registration_number, dtype: int64)"
      ]
     },
     "execution_count": 23,
     "metadata": {},
     "output_type": "execute_result"
    }
   ],
   "source": [
    "oct_gender_drops = oct_drops.groupby('gender').count()['registration_number']\n",
    "nov_gender_drops = nov_drops.groupby('gender').count()['registration_number']\n",
    "dec_gender_drops = dec_drops.groupby('gender').count()['registration_number']\n",
    "oct_gender_drops, nov_gender_drops, dec_gender_drops"
   ]
  },
  {
   "cell_type": "markdown",
   "metadata": {},
   "source": [
    "# Gender-level operations (net and mean)"
   ]
  },
  {
   "cell_type": "code",
   "execution_count": 24,
   "metadata": {},
   "outputs": [
    {
     "data": {
      "text/plain": [
       "(gender\n",
       " F    71325\n",
       " M    72715\n",
       " O     1918\n",
       " Name: registration_number, dtype: int64,\n",
       " gender\n",
       " F    14951\n",
       " M    14781\n",
       " O      260\n",
       " Name: registration_number, dtype: int64,\n",
       " gender\n",
       " F    30522\n",
       " M    33489\n",
       " O      589\n",
       " Name: registration_number, dtype: int64)"
      ]
     },
     "execution_count": 24,
     "metadata": {},
     "output_type": "execute_result"
    }
   ],
   "source": [
    "oct_gender_net = oct_gender_adds - oct_gender_drops\n",
    "nov_gender_net = nov_gender_adds - nov_gender_drops\n",
    "dec_gender_net = dec_gender_adds - dec_gender_drops\n",
    "oct_gender_net, nov_gender_net, dec_gender_net"
   ]
  },
  {
   "cell_type": "code",
   "execution_count": 25,
   "metadata": {},
   "outputs": [
    {
     "data": {
      "text/plain": [
       "(gender\n",
       " F    0.019406\n",
       " M    0.022899\n",
       " O    0.115641\n",
       " Name: registration_number, dtype: float64,\n",
       " gender\n",
       " F    0.004842\n",
       " M    0.005789\n",
       " O    0.019075\n",
       " Name: registration_number, dtype: float64,\n",
       " gender\n",
       " F    0.008261\n",
       " M    0.010257\n",
       " O    0.035178\n",
       " Name: registration_number, dtype: float64)"
      ]
     },
     "execution_count": 25,
     "metadata": {},
     "output_type": "execute_result"
    }
   ],
   "source": [
    "oct_gender_mean_adds = oct_gender_adds / oct_gender_tots\n",
    "nov_gender_mean_adds = nov_gender_adds / nov_gender_tots\n",
    "dec_gender_mean_adds = dec_gender_adds / dec_gender_tots\n",
    "oct_gender_mean_adds, nov_gender_mean_adds, dec_gender_mean_adds"
   ]
  },
  {
   "cell_type": "code",
   "execution_count": 26,
   "metadata": {},
   "outputs": [
    {
     "data": {
      "text/plain": [
       "(gender\n",
       " F    0.001822\n",
       " M    0.002486\n",
       " O    0.002305\n",
       " Name: registration_number, dtype: float64,\n",
       " gender\n",
       " F    0.001170\n",
       " M    0.001657\n",
       " O    0.003955\n",
       " Name: registration_number, dtype: float64,\n",
       " gender\n",
       " F    0.000819\n",
       " M    0.000981\n",
       " O    0.002079\n",
       " Name: registration_number, dtype: float64)"
      ]
     },
     "execution_count": 26,
     "metadata": {},
     "output_type": "execute_result"
    }
   ],
   "source": [
    "oct_gender_mean_drops = oct_gender_drops / oct_gender_tots\n",
    "nov_gender_mean_drops = nov_gender_drops / nov_gender_tots\n",
    "dec_gender_mean_drops = dec_gender_drops / dec_gender_tots\n",
    "oct_gender_mean_drops, nov_gender_mean_drops, dec_gender_mean_drops"
   ]
  },
  {
   "cell_type": "code",
   "execution_count": 27,
   "metadata": {},
   "outputs": [
    {
     "data": {
      "text/plain": [
       "(gender\n",
       " F    0.017585\n",
       " M    0.020413\n",
       " O    0.113337\n",
       " Name: registration_number, dtype: float64,\n",
       " gender\n",
       " F    0.003673\n",
       " M    0.004132\n",
       " O    0.015121\n",
       " Name: registration_number, dtype: float64,\n",
       " gender\n",
       " F    0.007442\n",
       " M    0.009276\n",
       " O    0.033099\n",
       " Name: registration_number, dtype: float64)"
      ]
     },
     "execution_count": 27,
     "metadata": {},
     "output_type": "execute_result"
    }
   ],
   "source": [
    "oct_gender_mean_net = oct_gender_net / oct_gender_tots\n",
    "nov_gender_mean_net = nov_gender_net / nov_gender_tots\n",
    "dec_gender_mean_net = dec_gender_net / dec_gender_tots\n",
    "oct_gender_mean_net, nov_gender_mean_net, dec_gender_mean_net"
   ]
  },
  {
   "cell_type": "markdown",
   "metadata": {},
   "source": [
    "# Partisan-level subgroups (party-level totals)"
   ]
  },
  {
   "cell_type": "code",
   "execution_count": 28,
   "metadata": {},
   "outputs": [
    {
     "data": {
      "text/plain": [
       "(party_last_voted\n",
       " D     416880\n",
       " N        842\n",
       " NP     66134\n",
       " R     452252\n",
       " Name: registration_number, dtype: int64,\n",
       " party_last_voted\n",
       " D     91129\n",
       " N       723\n",
       " NP     6254\n",
       " R     71225\n",
       " Name: registration_number, dtype: int64,\n",
       " party_last_voted\n",
       " D     87649\n",
       " N       726\n",
       " NP     5970\n",
       " R     68969\n",
       " Name: registration_number, dtype: int64)"
      ]
     },
     "execution_count": 28,
     "metadata": {},
     "output_type": "execute_result"
    }
   ],
   "source": [
    "oct_party_tots = oct_all.groupby('party_last_voted').count()['registration_number']\n",
    "nov_party_tots = nov_all.groupby('party_last_voted').count()['registration_number']\n",
    "dec_party_tots = dec_all.groupby('party_last_voted').count()['registration_number']\n",
    "oct_party_tots, nov_party_tots, dec_party_tots"
   ]
  },
  {
   "cell_type": "code",
   "execution_count": 29,
   "metadata": {},
   "outputs": [
    {
     "data": {
      "text/plain": [
       "(party_last_voted\n",
       " D     784\n",
       " N      19\n",
       " NP      5\n",
       " R     428\n",
       " Name: registration_number, dtype: int64,\n",
       " party_last_voted\n",
       " D     246\n",
       " N       4\n",
       " NP      2\n",
       " R     136\n",
       " Name: registration_number, dtype: int64,\n",
       " party_last_voted\n",
       " D     421\n",
       " N       5\n",
       " NP      2\n",
       " R     218\n",
       " Name: registration_number, dtype: int64)"
      ]
     },
     "execution_count": 29,
     "metadata": {},
     "output_type": "execute_result"
    }
   ],
   "source": [
    "oct_party_adds = oct_adds.groupby('party_last_voted').count()['registration_number']\n",
    "nov_party_adds = nov_adds.groupby('party_last_voted').count()['registration_number']\n",
    "dec_party_adds = dec_adds.groupby('party_last_voted').count()['registration_number']\n",
    "oct_party_adds, nov_party_adds, dec_party_adds"
   ]
  },
  {
   "cell_type": "code",
   "execution_count": 30,
   "metadata": {},
   "outputs": [
    {
     "data": {
      "text/plain": [
       "(party_last_voted\n",
       " D     1827\n",
       " N        4\n",
       " NP     174\n",
       " R     2044\n",
       " Name: registration_number, dtype: int64,\n",
       " party_last_voted\n",
       " D     690\n",
       " N       1\n",
       " NP     75\n",
       " R     713\n",
       " Name: registration_number, dtype: int64,\n",
       " party_last_voted\n",
       " D     221\n",
       " N       1\n",
       " NP     23\n",
       " R     289\n",
       " Name: registration_number, dtype: int64)"
      ]
     },
     "execution_count": 30,
     "metadata": {},
     "output_type": "execute_result"
    }
   ],
   "source": [
    "oct_party_drops = oct_drops.groupby('party_last_voted').count()['registration_number']\n",
    "nov_party_drops = nov_drops.groupby('party_last_voted').count()['registration_number']\n",
    "dec_party_drops = dec_drops.groupby('party_last_voted').count()['registration_number']\n",
    "oct_party_drops, nov_party_drops, dec_party_drops"
   ]
  },
  {
   "cell_type": "markdown",
   "metadata": {},
   "source": [
    "# Party-level operations (net and mean)"
   ]
  },
  {
   "cell_type": "code",
   "execution_count": 31,
   "metadata": {},
   "outputs": [
    {
     "data": {
      "text/plain": [
       "(party_last_voted\n",
       " D    -1043\n",
       " N       15\n",
       " NP    -169\n",
       " R    -1616\n",
       " Name: registration_number, dtype: int64,\n",
       " party_last_voted\n",
       " D    -444\n",
       " N       3\n",
       " NP    -73\n",
       " R    -577\n",
       " Name: registration_number, dtype: int64,\n",
       " party_last_voted\n",
       " D     200\n",
       " N       4\n",
       " NP    -21\n",
       " R     -71\n",
       " Name: registration_number, dtype: int64)"
      ]
     },
     "execution_count": 31,
     "metadata": {},
     "output_type": "execute_result"
    }
   ],
   "source": [
    "oct_party_net = oct_party_adds - oct_party_drops\n",
    "nov_party_net = nov_party_adds - nov_party_drops\n",
    "dec_party_net = dec_party_adds - dec_party_drops\n",
    "oct_party_net, nov_party_net, dec_party_net"
   ]
  },
  {
   "cell_type": "code",
   "execution_count": 32,
   "metadata": {},
   "outputs": [
    {
     "data": {
      "text/plain": [
       "(party_last_voted\n",
       " D     0.001881\n",
       " N     0.022565\n",
       " NP    0.000076\n",
       " R     0.000946\n",
       " Name: registration_number, dtype: float64,\n",
       " party_last_voted\n",
       " D     0.002699\n",
       " N     0.005533\n",
       " NP    0.000320\n",
       " R     0.001909\n",
       " Name: registration_number, dtype: float64,\n",
       " party_last_voted\n",
       " D     0.004803\n",
       " N     0.006887\n",
       " NP    0.000335\n",
       " R     0.003161\n",
       " Name: registration_number, dtype: float64)"
      ]
     },
     "execution_count": 32,
     "metadata": {},
     "output_type": "execute_result"
    }
   ],
   "source": [
    "oct_party_mean_adds = oct_party_adds / oct_party_tots\n",
    "nov_party_mean_adds = nov_party_adds / nov_party_tots\n",
    "dec_party_mean_adds = dec_party_adds / dec_party_tots\n",
    "\n",
    "oct_party_mean_adds, nov_party_mean_adds, dec_party_mean_adds"
   ]
  },
  {
   "cell_type": "code",
   "execution_count": 33,
   "metadata": {},
   "outputs": [
    {
     "data": {
      "text/plain": [
       "(party_last_voted\n",
       " D     0.004383\n",
       " N     0.004751\n",
       " NP    0.002631\n",
       " R     0.004520\n",
       " Name: registration_number, dtype: float64,\n",
       " party_last_voted\n",
       " D     0.007572\n",
       " N     0.001383\n",
       " NP    0.011992\n",
       " R     0.010011\n",
       " Name: registration_number, dtype: float64,\n",
       " party_last_voted\n",
       " D     0.002521\n",
       " N     0.001377\n",
       " NP    0.003853\n",
       " R     0.004190\n",
       " Name: registration_number, dtype: float64)"
      ]
     },
     "execution_count": 33,
     "metadata": {},
     "output_type": "execute_result"
    }
   ],
   "source": [
    "oct_party_mean_drops = oct_party_drops / oct_party_tots\n",
    "nov_party_mean_drops = nov_party_drops / nov_party_tots\n",
    "dec_party_mean_drops = dec_party_drops / dec_party_tots\n",
    "oct_party_mean_drops, nov_party_mean_drops, dec_party_mean_drops"
   ]
  },
  {
   "cell_type": "code",
   "execution_count": 34,
   "metadata": {},
   "outputs": [
    {
     "data": {
      "text/plain": [
       "(party_last_voted\n",
       " D    -0.002502\n",
       " N     0.017815\n",
       " NP   -0.002555\n",
       " R    -0.003573\n",
       " Name: registration_number, dtype: float64,\n",
       " party_last_voted\n",
       " D    -0.004872\n",
       " N     0.004149\n",
       " NP   -0.011673\n",
       " R    -0.008101\n",
       " Name: registration_number, dtype: float64,\n",
       " party_last_voted\n",
       " D     0.002282\n",
       " N     0.005510\n",
       " NP   -0.003518\n",
       " R    -0.001029\n",
       " Name: registration_number, dtype: float64)"
      ]
     },
     "execution_count": 34,
     "metadata": {},
     "output_type": "execute_result"
    }
   ],
   "source": [
    "oct_party_mean_net = oct_party_net / oct_party_tots\n",
    "nov_party_mean_net = nov_party_net / nov_party_tots\n",
    "dec_party_mean_net = dec_party_net / dec_party_tots\n",
    "oct_party_mean_net, nov_party_mean_net, dec_party_mean_net"
   ]
  },
  {
   "cell_type": "markdown",
   "metadata": {},
   "source": [
    "# Statistical Tests"
   ]
  },
  {
   "cell_type": "code",
   "execution_count": 35,
   "metadata": {},
   "outputs": [],
   "source": [
    "'''\n",
    "Modeling the state rate of added voters using binomial distribution because the subset of\n",
    "added voters compared to the population of all voters is essentially a bernoulli trial\n",
    "(0=not added, 1=added) repeated for a number of trials equal to registered voters. Crudely,\n",
    "n = # of registered voters, p = # of added voters / n.\n",
    "'''\n",
    "\n",
    "state_binomial = stats.binom(n=oct_state_tot, p=oct_mean_adds_state)"
   ]
  },
  {
   "cell_type": "code",
   "execution_count": 36,
   "metadata": {},
   "outputs": [
    {
     "data": {
      "text/plain": [
       "(0.02073116526145582,\n",
       " county_code\n",
       " 91     0.048399\n",
       " 127    0.038796\n",
       " 57     0.036528\n",
       " 89     0.036430\n",
       " 21     0.035231\n",
       " Name: registration_number, dtype: float64,\n",
       " 0.007025996396272748,\n",
       " county_code\n",
       " 26     0.025876\n",
       " 54     0.017694\n",
       " 43     0.015810\n",
       " 27     0.015244\n",
       " 146    0.015144\n",
       " Name: registration_number, dtype: float64,\n",
       " 0.009102411286477404,\n",
       " county_code\n",
       " 9      0.020577\n",
       " 149    0.018626\n",
       " 115    0.017457\n",
       " 129    0.017258\n",
       " 138    0.017081\n",
       " Name: registration_number, dtype: float64)"
      ]
     },
     "execution_count": 36,
     "metadata": {},
     "output_type": "execute_result"
    }
   ],
   "source": [
    "'''\n",
    "I would like to apply the statewide rate of added registrations to individual county rates of\n",
    "added registrations, but the calculation p = # of added voters / n yields a value that\n",
    "exaggerates the mean in favor of more populace counties. I corrected for this by compiling\n",
    "the mean value of county-wide mean values (sum(county mean values) / # counties) and comparing\n",
    "this county-level mean to the mean values of individual counties.\n",
    "In the interests of narrowed scope, let's compare the county-level mean value to counties\n",
    "with the highest rates of added registrations:\n",
    "'''\n",
    "\n",
    "ot5 = oct_county_mean_adds.sort_values(ascending=False)\n",
    "nt5 = nov_county_mean_adds.sort_values(ascending=False)\n",
    "dt5 = dec_county_mean_adds.sort_values(ascending=False)\n",
    "\n",
    "oct_county_mean_adds.mean(), ot5.head(), nov_county_mean_adds.mean(), nt5.head(), dec_county_mean_adds.mean(), dt5.head()"
   ]
  },
  {
   "cell_type": "code",
   "execution_count": 37,
   "metadata": {},
   "outputs": [
    {
     "data": {
      "image/png": "[encoded data removed]",
      "text/plain": [
       "<Figure size 864x432 with 1 Axes>"
      ]
     },
     "metadata": {},
     "output_type": "display_data"
    }
   ],
   "source": [
    "#ot5.hist(bins=80, figsize=(12,3));\n",
    "plt.figure(figsize=(12,6))\n",
    "x = ot5\n",
    "\n",
    "plt.title(\"Distribution of New Voter Registration Rates by County\")\n",
    "plt.xlabel(\"County-level New Voter Registration Rate (percent)\")\n",
    "plt.ylabel(\"Number of Counties\")\n",
    "\n",
    "plt.hist(x * 100, bins=80)\n",
    "plt.show() "
   ]
  },
  {
   "cell_type": "code",
   "execution_count": 38,
   "metadata": {},
   "outputs": [
    {
     "data": {
      "image/png": "[encoded data removed]",
      "text/plain": [
       "<Figure size 864x432 with 1 Axes>"
      ]
     },
     "metadata": {},
     "output_type": "display_data"
    }
   ],
   "source": [
    "plt.figure(figsize=(12,6))\n",
    "x = np.array([\"91\", \"127\", \"57\", \"89\", \"21\", \"SM\", \"CM\"])\n",
    "y = np.array([0.048399, 0.038796, 0.036528, 0.036430, 0.035231, 0.02124921711756242, 0.02073116526145582])\n",
    "\n",
    "plt.title(\"Top 5 New Voter Registration Rates by County\")\n",
    "plt.xlabel(\"County Code, State Mean, County-level Mean\")\n",
    "plt.ylabel(\"Mean Rate of New Registrations\")\n",
    "\n",
    "plt.bar(x,y)\n",
    "plt.show()"
   ]
  },
  {
   "cell_type": "code",
   "execution_count": 39,
   "metadata": {},
   "outputs": [],
   "source": [
    "'''\n",
    "October stands out as both the month with the highest rates of added registrations and a month\n",
    "in which the most active counties register voters at more than twice the rate of the mean \n",
    "[vertical bar chart for top counties]. It would be comforting to know that this rate of voter \n",
    "registration in high performing counties fits within the distribution established by the\n",
    "county-level mean calculated previously.\n",
    "Using a binomial distribution with n = # of registered voters in county, p = county-level\n",
    "mean, we can calculate the likelihood(?) that we would observe the number of added\n",
    "registrations in a particular county by taking the CDF of the number of added registrations.\n",
    "'''\n",
    "# registrations by county\n",
    "county91_tot_regs = oct_all[oct_all['county_code'] == 91]\n",
    "county127_tot_regs = oct_all[oct_all['county_code'] == 127]\n",
    "county57_tot_regs = oct_all[oct_all['county_code'] == 57]\n",
    "county89_tot_regs = oct_all[oct_all['county_code'] == 89]\n",
    "county21_tot_regs = oct_all[oct_all['county_code'] == 21]\n",
    "\n",
    "# new registrations by county\n",
    "county91_regs = oct_adds[oct_adds['county_code'] == 91]\n",
    "county127_regs = oct_adds[oct_adds['county_code'] == 127]\n",
    "county57_regs = oct_adds[oct_adds['county_code'] == 57]\n",
    "county89_regs = oct_adds[oct_adds['county_code'] == 89]\n",
    "county21_regs = oct_adds[oct_adds['county_code'] == 21]\n",
    "\n",
    "# total registered voters by county\n",
    "county91_oct_tot = county91_tot_regs['registration_number'].count()\n",
    "county127_oct_tot = county127_tot_regs['registration_number'].count()\n",
    "county57_oct_tot = county57_tot_regs['registration_number'].count()\n",
    "county89_oct_tot = county89_tot_regs['registration_number'].count()\n",
    "county21_oct_tot = county21_tot_regs['registration_number'].count()\n",
    "\n",
    "# newly registered voters by county\n",
    "county91_oct_adds = county91_regs['registration_number'].count()\n",
    "county127_oct_adds = county127_regs['registration_number'].count()\n",
    "county57_oct_adds = county57_regs['registration_number'].count()\n",
    "county89_oct_adds = county89_regs['registration_number'].count()\n",
    "county21_oct_adds = county21_regs['registration_number'].count()"
   ]
  },
  {
   "cell_type": "code",
   "execution_count": 40,
   "metadata": {},
   "outputs": [
    {
     "data": {
      "text/plain": [
       "(10496, 19203, 62335, 41559, 6727)"
      ]
     },
     "execution_count": 40,
     "metadata": {},
     "output_type": "execute_result"
    }
   ],
   "source": [
    "# the top performing counties are relatively small, with one possible exception\n",
    "county91_oct_tot, county127_oct_tot, county57_oct_tot, county89_oct_tot, county21_oct_tot"
   ]
  },
  {
   "cell_type": "code",
   "execution_count": 41,
   "metadata": {},
   "outputs": [
    {
     "data": {
      "text/plain": [
       "(508, 745, 2277, 1514, 237)"
      ]
     },
     "execution_count": 41,
     "metadata": {},
     "output_type": "execute_result"
    }
   ],
   "source": [
    "# they also have relatively few added voters\n",
    "county91_oct_adds, county127_oct_adds, county57_oct_adds, county89_oct_adds, county21_oct_adds"
   ]
  },
  {
   "cell_type": "code",
   "execution_count": 42,
   "metadata": {},
   "outputs": [],
   "source": [
    "# making county-level binomial distributions\n",
    "county91_binomial = stats.binom(n=county91_oct_tot, p=oct_county_mean_adds.mean())\n",
    "county127_binomial = stats.binom(n=county127_oct_tot, p=oct_county_mean_adds.mean())\n",
    "county57_binomial = stats.binom(n=county57_oct_tot, p=oct_county_mean_adds.mean())\n",
    "county89_binomial = stats.binom(n=county89_oct_tot, p=oct_county_mean_adds.mean())\n",
    "county21_binomial = stats.binom(n=county21_oct_tot, p=oct_county_mean_adds.mean())"
   ]
  },
  {
   "cell_type": "code",
   "execution_count": 43,
   "metadata": {},
   "outputs": [],
   "source": [
    "# calculating county-specific p-values\n",
    "county91_cdf = 1 - county91_binomial.cdf(county91_oct_adds)\n",
    "county127_cdf = 1 - county127_binomial.cdf(county127_oct_adds)\n",
    "county57_cdf = 1 - county57_binomial.cdf(county57_oct_adds)\n",
    "county89_cdf = 1 - county89_binomial.cdf(county89_oct_adds)\n",
    "county21_cdf = 1 - county21_binomial.cdf(county21_oct_adds)"
   ]
  },
  {
   "cell_type": "code",
   "execution_count": 44,
   "metadata": {},
   "outputs": [
    {
     "data": {
      "text/plain": [
       "(1.1102230246251565e-16,\n",
       " 1.1102230246251565e-16,\n",
       " 1.1102230246251565e-16,\n",
       " 1.1102230246251565e-16,\n",
       " 1.0325074129013956e-14)"
      ]
     },
     "execution_count": 44,
     "metadata": {},
     "output_type": "execute_result"
    }
   ],
   "source": [
    "# we see nothing below a 0.05 rejection threshhold to warrant rejecting the null hypothesis\n",
    "county91_cdf, county127_cdf, county57_cdf, county89_cdf, county21_cdf"
   ]
  },
  {
   "cell_type": "code",
   "execution_count": 45,
   "metadata": {},
   "outputs": [
    {
     "data": {
      "text/plain": [
       "(0.05264896633425916, 0.02124921711756242)"
      ]
     },
     "execution_count": 45,
     "metadata": {},
     "output_type": "execute_result"
    }
   ],
   "source": [
    "'''\n",
    "At least at the level of counties with the highest rates of voter registration, there is no\n",
    "apparent concern that the individual registration rates fall outside the range we would expect\n",
    "from the mean registration rate for counties taken as a whole.\n",
    "\n",
    "What if we turn instead to demographic questions and ask whether registration rates for\n",
    "either gender falls outside the range we might expect if we took our mean from the state as a\n",
    "whole?\n",
    "\n",
    "Because the records only categorize gender three ways (F, M, O), it may not be as valueable\n",
    "to take a mean of the means within each gender category. The noticably higher value for the\n",
    "mean of gender means likely results from the much higher rate of registration among the\n",
    "(O)ther category. For the sake of comparison and given these caveats, we will compare our \n",
    "hypothesis test results using both values.\n",
    "'''\n",
    "\n",
    "oct_gender_mean_adds.mean(), oct_mean_adds_state"
   ]
  },
  {
   "cell_type": "code",
   "execution_count": 46,
   "metadata": {},
   "outputs": [],
   "source": [
    "# registrations by gender \n",
    "f_tot_regs = oct_all[oct_all['gender'] == 'F']\n",
    "m_tot_regs = oct_all[oct_all['gender'] == 'M']\n",
    "o_tot_regs = oct_all[oct_all['gender'] == 'O']\n",
    "\n",
    "# new registrations by gender\n",
    "f_regs = oct_adds[oct_adds['gender'] == 'F']\n",
    "m_regs = oct_adds[oct_adds['gender'] == 'M']\n",
    "o_regs = oct_adds[oct_adds['gender'] == 'O']\n",
    "\n",
    "# total registered voters by gender\n",
    "f_oct_tot = f_tot_regs['registration_number'].count()\n",
    "m_oct_tot = m_tot_regs['registration_number'].count()\n",
    "o_oct_tot = o_tot_regs['registration_number'].count()\n",
    "\n",
    "# newly registered voters by gender\n",
    "f_oct_adds = f_regs['registration_number'].count()\n",
    "m_oct_adds = m_regs['registration_number'].count()\n",
    "o_oct_adds = o_regs['registration_number'].count()"
   ]
  },
  {
   "cell_type": "code",
   "execution_count": 47,
   "metadata": {},
   "outputs": [
    {
     "data": {
      "image/png": "[encoded data removed]",
      "text/plain": [
       "<Figure size 864x432 with 1 Axes>"
      ]
     },
     "metadata": {},
     "output_type": "display_data"
    }
   ],
   "source": [
    "plt.figure(figsize=(12,6))\n",
    "x = np.array([\"O\",\"GM\", \"M\", \"SM\", \"F\"])\n",
    "y = np.array([oct_gender_mean_adds[2], oct_gender_mean_adds.mean(), oct_gender_mean_adds[1], oct_mean_adds_state, oct_gender_mean_adds[0]])\n",
    "\n",
    "plt.title(\"New Voter Registration Rates by Gender\")\n",
    "plt.xlabel(\"Gender Code, State Mean, Gender Mean (sorted)\")\n",
    "plt.ylabel(\"Mean Rate of New Registrations\")\n",
    "\n",
    "plt.bar(x,y)\n",
    "plt.show()"
   ]
  },
  {
   "cell_type": "code",
   "execution_count": 48,
   "metadata": {},
   "outputs": [],
   "source": [
    "# binomials based on gender mean\n",
    "fgm_binomial = stats.binom(n=f_oct_tot, p=oct_gender_mean_adds.mean())\n",
    "mgm_binomial = stats.binom(n=m_oct_tot, p=oct_gender_mean_adds.mean())\n",
    "ogm_binomial = stats.binom(n=o_oct_tot, p=oct_gender_mean_adds.mean())"
   ]
  },
  {
   "cell_type": "code",
   "execution_count": 49,
   "metadata": {},
   "outputs": [],
   "source": [
    "# binomials based on state mean\n",
    "fsm_binomial = stats.binom(n=f_oct_tot, p=oct_mean_adds_state)\n",
    "msm_binomial = stats.binom(n=m_oct_tot, p=oct_mean_adds_state)\n",
    "osm_binomial = stats.binom(n=o_oct_tot, p=oct_mean_adds_state)"
   ]
  },
  {
   "cell_type": "code",
   "execution_count": 50,
   "metadata": {},
   "outputs": [],
   "source": [
    "# calculating p-values based on gender mean\n",
    "fgm_cdf = 1 - fgm_binomial.cdf(f_oct_adds)\n",
    "mgm_cdf = 1 - mgm_binomial.cdf(m_oct_adds)\n",
    "ogm_cdf = 1 - ogm_binomial.cdf(o_oct_adds)\n",
    "\n",
    "# calculating p-values based on state mean\n",
    "fsm_cdf = 1 - fsm_binomial.cdf(f_oct_adds)\n",
    "msm_cdf = 1 - msm_binomial.cdf(m_oct_adds)\n",
    "osm_cdf = 1 - osm_binomial.cdf(o_oct_adds)"
   ]
  },
  {
   "cell_type": "code",
   "execution_count": 51,
   "metadata": {},
   "outputs": [
    {
     "data": {
      "text/plain": [
       "(1.0, 1.0, 1.1102230246251565e-16)"
      ]
     },
     "execution_count": 51,
     "metadata": {},
     "output_type": "execute_result"
    }
   ],
   "source": [
    "# we see nothing below a 0.05 rejection threshhold to warrant rejecting the null hypothesis\n",
    "# using the gender mean.\n",
    "fgm_cdf, mgm_cdf, ogm_cdf"
   ]
  },
  {
   "cell_type": "code",
   "execution_count": 52,
   "metadata": {},
   "outputs": [
    {
     "data": {
      "text/plain": [
       "(1.0, 1.1102230246251565e-16, 1.1102230246251565e-16)"
      ]
     },
     "execution_count": 52,
     "metadata": {},
     "output_type": "execute_result"
    }
   ],
   "source": [
    "# we see nothing below a 0.05 rejection threshhold to warrant rejecting the null hypothesis\n",
    "# using the state mean.\n",
    "fsm_cdf, msm_cdf, osm_cdf"
   ]
  },
  {
   "cell_type": "code",
   "execution_count": 53,
   "metadata": {},
   "outputs": [
    {
     "data": {
      "text/plain": [
       "(0.004070943983676998, 0.0021328716848153942)"
      ]
     },
     "execution_count": 53,
     "metadata": {},
     "output_type": "execute_result"
    }
   ],
   "source": [
    "'''\n",
    "Finally, although we haven't discovered any reason to reject the null hypotheses with respect\n",
    "to geography (county-level) or demographics (gender), given the claims of partisan vote\n",
    "tampering leveled at Georgia state officials, it remains to ask whether party affiliation\n",
    "could be used to predict irregular rates of voter registration in the run-up to the election.\n",
    "\n",
    "Georgia voter registration records collect data on the party a voter last voted for, but, as\n",
    "might plainly be expected, new voters generally will not have a last party voted on their\n",
    "registrations. Accordingly, to meaningfully examine irregular voter registration patterns with\n",
    "respect to party affiliation, I will examine the patterns of dropped voter registrations for\n",
    "irregularities along partisan lines.\n",
    "\n",
    "As a further caveat, the rates of dropped registrations generally (at the state level) are\n",
    "much lower than the rates of new voter registration. The same pattern is evident at the\n",
    "partisan level. One expects this can only contribute to variability in the rates of dropped\n",
    "registrations at this level. Added to that, Georgia only designates four party affiliations \n",
    "(D, N, NP, R), so, as with gender, there is less reason to prefer a mean of party rate of \n",
    "dropped registrations over the mean for the state at large. Again, for purposes of comparison,\n",
    "both values will be considered.\n",
    "'''\n",
    "oct_party_mean_drops.mean(), oct_mean_drops_state"
   ]
  },
  {
   "cell_type": "code",
   "execution_count": 54,
   "metadata": {},
   "outputs": [
    {
     "data": {
      "image/png": "[encoded data removed]",
      "text/plain": [
       "<Figure size 360x360 with 1 Axes>"
      ]
     },
     "metadata": {},
     "output_type": "display_data"
    }
   ],
   "source": [
    "plt.figure(figsize=(5,5))\n",
    "x = np.array([\"State adds\", \"State drops\"])\n",
    "y = np.array([oct_state_adds, oct_state_drops])\n",
    "\n",
    "plt.title(\"October 2020 Statewide Added/Dropped Registrations\")\n",
    "plt.xlabel(\"Statewide Adds/Drops\")\n",
    "plt.ylabel(\"Number of Added/Dropped Registrations\")\n",
    "\n",
    "plt.bar(x,y)\n",
    "plt.show()"
   ]
  },
  {
   "cell_type": "code",
   "execution_count": 55,
   "metadata": {},
   "outputs": [
    {
     "data": {
      "image/png": "[encoded data removed]",
      "text/plain": [
       "<Figure size 864x432 with 1 Axes>"
      ]
     },
     "metadata": {},
     "output_type": "display_data"
    }
   ],
   "source": [
    "plt.figure(figsize=(12,6))\n",
    "x = np.array([\"D\", \"N\", \"NP\", \"R\"])\n",
    "y = np.array([oct_party_tots[0],  oct_party_tots[1], oct_party_tots[2], oct_party_tots[3]])\n",
    "\n",
    "plt.title(\"October 2020 Total Registrations by Party\")\n",
    "plt.xlabel(\"Party\")\n",
    "plt.ylabel(\"Total Registrations\")\n",
    "\n",
    "plt.bar(x,y)\n",
    "plt.show()"
   ]
  },
  {
   "cell_type": "code",
   "execution_count": 56,
   "metadata": {},
   "outputs": [
    {
     "data": {
      "image/png": "[encoded data removed]",
      "text/plain": [
       "<Figure size 864x432 with 1 Axes>"
      ]
     },
     "metadata": {},
     "output_type": "display_data"
    }
   ],
   "source": [
    "plt.figure(figsize=(12,6))\n",
    "x = np.array([\"D adds\", \"D drops\", \"N adds\", \"N drops\", \"NP adds\", \"NP drops\", \"R adds\", \"R drops\"])\n",
    "y = np.array([oct_party_adds[0], oct_party_drops[0],oct_party_adds[1], oct_party_drops[1],oct_party_adds[2], oct_party_drops[2],oct_party_adds[3], oct_party_drops[3]])\n",
    "\n",
    "plt.title(\"October 2020 Added/Dropped Registrations by Party\")\n",
    "plt.xlabel(\"Party Adds/Drops\")\n",
    "plt.ylabel(\"Number of Added/Dropped Registrations\")\n",
    "\n",
    "plt.bar(x,y)\n",
    "plt.show()"
   ]
  },
  {
   "cell_type": "code",
   "execution_count": 57,
   "metadata": {},
   "outputs": [],
   "source": [
    "# registrations by party (D, N, NP, R)\n",
    "d_tot_regs = oct_all[oct_all['party_last_voted'] == 'D']\n",
    "n_tot_regs = oct_all[oct_all['party_last_voted'] == 'N']\n",
    "np_tot_regs = oct_all[oct_all['party_last_voted'] == 'NP']\n",
    "r_tot_regs = oct_all[oct_all['party_last_voted'] == 'R']\n",
    "\n",
    "# new registrations by party\n",
    "d_regs = oct_adds[oct_adds['party_last_voted'] == 'D']\n",
    "n_regs = oct_adds[oct_adds['party_last_voted'] == 'N']\n",
    "np_regs = oct_adds[oct_adds['party_last_voted'] == 'NP']\n",
    "r_regs = oct_adds[oct_adds['party_last_voted'] == 'R']\n",
    "\n",
    "# total registered voters by party\n",
    "d_oct_tot = d_tot_regs['registration_number'].count()\n",
    "n_oct_tot = n_tot_regs['registration_number'].count()\n",
    "np_oct_tot = np_tot_regs['registration_number'].count()\n",
    "r_oct_tot = r_tot_regs['registration_number'].count()\n",
    "\n",
    "# newly registered voters by party\n",
    "d_oct_drops = d_regs['registration_number'].count()\n",
    "n_oct_drops = n_regs['registration_number'].count()\n",
    "np_oct_drops = np_regs['registration_number'].count()\n",
    "r_oct_drops = r_regs['registration_number'].count()"
   ]
  },
  {
   "cell_type": "code",
   "execution_count": 58,
   "metadata": {},
   "outputs": [],
   "source": [
    "# binomials based on party mean\n",
    "dpm_binomial = stats.binom(n=d_oct_tot, p=oct_party_mean_drops.mean())\n",
    "npm_binomial = stats.binom(n=n_oct_tot, p=oct_party_mean_drops.mean())\n",
    "nppm_binomial = stats.binom(n=np_oct_tot, p=oct_party_mean_drops.mean())\n",
    "rpm_binomial = stats.binom(n=r_oct_tot, p=oct_party_mean_drops.mean())"
   ]
  },
  {
   "cell_type": "code",
   "execution_count": 59,
   "metadata": {},
   "outputs": [],
   "source": [
    "# binomials based on state mean\n",
    "dsm_binomial = stats.binom(n=d_oct_tot, p=oct_mean_drops_state)\n",
    "nsm_binomial = stats.binom(n=n_oct_tot, p=oct_mean_drops_state)\n",
    "npsm_binomial = stats.binom(n=np_oct_tot, p=oct_mean_drops_state)\n",
    "rsm_binomial = stats.binom(n=r_oct_tot, p=oct_mean_drops_state)"
   ]
  },
  {
   "cell_type": "code",
   "execution_count": 60,
   "metadata": {},
   "outputs": [],
   "source": [
    "# calculating p-values based on party mean\n",
    "dpm_cdf = 1 - dpm_binomial.cdf(d_oct_drops)\n",
    "npm_cdf = 1 - npm_binomial.cdf(n_oct_drops)\n",
    "nppm_cdf = 1 - nppm_binomial.cdf(np_oct_drops)\n",
    "rpm_cdf = 1 - rpm_binomial.cdf(r_oct_drops)\n",
    "\n",
    "# calculating p-values based on state mean\n",
    "dsm_cdf = 1 - dsm_binomial.cdf(d_oct_drops)\n",
    "nsm_cdf = 1 - nsm_binomial.cdf(n_oct_drops)\n",
    "npsm_cdf = 1 - npsm_binomial.cdf(np_oct_drops)\n",
    "rsm_cdf = 1 - rsm_binomial.cdf(r_oct_drops)"
   ]
  },
  {
   "cell_type": "code",
   "execution_count": 61,
   "metadata": {},
   "outputs": [
    {
     "data": {
      "text/plain": [
       "(1.0, 6.823602793915029e-10, 1.0, 1.0)"
      ]
     },
     "execution_count": 61,
     "metadata": {},
     "output_type": "execute_result"
    }
   ],
   "source": [
    "# we see nothing below a 0.05 rejection threshhold to warrant rejecting the null hypothesis\n",
    "# using the party mean.\n",
    "dpm_cdf, npm_cdf, nppm_cdf, rpm_cdf"
   ]
  },
  {
   "cell_type": "code",
   "execution_count": 62,
   "metadata": {},
   "outputs": [
    {
     "data": {
      "text/plain": [
       "(0.9998282327665493, 7.549516567451064e-15, 1.0, 1.0)"
      ]
     },
     "execution_count": 62,
     "metadata": {},
     "output_type": "execute_result"
    }
   ],
   "source": [
    "# we see nothing below a 0.05 rejection threshhold to warrant rejecting the null hypothesis\n",
    "# using the state mean.\n",
    "dsm_cdf, nsm_cdf, npsm_cdf, rsm_cdf"
   ]
  },
  {
   "cell_type": "markdown",
   "metadata": {},
   "source": [
    "# MVP upgrades"
   ]
  },
  {
   "cell_type": "code",
   "execution_count": null,
   "metadata": {},
   "outputs": [],
   "source": [
    "'''\n",
    "The preceding statistical analyses were hampered by a lack of object oriented programing\n",
    "implementation. That was a strategic decision based on a lack of OOP expertise chosen in order\n",
    "to ensure delivery of a minimum viable product consisting of three statistical analyses based\n",
    "on geographic, demographic and partisan divisions of Georgia voters.\n",
    "\n",
    "I would like to move the preceding analyses in a more object oriented direction by packaging\n",
    "individual scripts into functions if not classes and determining whether such an approach\n",
    "could also extend their functionality.\n",
    "'''\n",
    "\n",
    "def regs_by_county():\n",
    "    n = 0\n",
    "    for idx, county in enumerate(oct_county_tots['county_code']):\n",
    "        while n < 5:\n",
    "            print(oct_county_tots[idx + 1])\n",
    "            n += 1\n",
    "            \n",
    "regs_by_county()\n",
    "\n",
    "#county91_tot_regs = oct_all[oct_all['county_code'] == 91]"
   ]
  },
  {
   "cell_type": "code",
   "execution_count": null,
   "metadata": {},
   "outputs": [],
   "source": [
    "type(oct_all['county_code'])"
   ]
  },
  {
   "cell_type": "code",
   "execution_count": null,
   "metadata": {},
   "outputs": [],
   "source": [
    "all['county_code'].nunique()"
   ]
  },
  {
   "cell_type": "code",
   "execution_count": null,
   "metadata": {},
   "outputs": [],
   "source": [
    "oct_adds.head()"
   ]
  },
  {
   "cell_type": "code",
   "execution_count": null,
   "metadata": {},
   "outputs": [],
   "source": [
    "oct_adds.info()"
   ]
  },
  {
   "cell_type": "code",
   "execution_count": null,
   "metadata": {},
   "outputs": [],
   "source": [
    "all.count()"
   ]
  },
  {
   "cell_type": "code",
   "execution_count": null,
   "metadata": {},
   "outputs": [],
   "source": [
    "all['date_added'].head(100)"
   ]
  },
  {
   "cell_type": "code",
   "execution_count": null,
   "metadata": {},
   "outputs": [],
   "source": []
  }
 ],
 "metadata": {
  "kernelspec": {
   "display_name": "Python 3",
   "language": "python",
   "name": "python3"
  },
  "language_info": {
   "codemirror_mode": {
    "name": "ipython",
    "version": 3
   },
   "file_extension": ".py",
   "mimetype": "text/x-python",
   "name": "python",
   "nbconvert_exporter": "python",
   "pygments_lexer": "ipython3",
   "version": "3.7.9"
  }
 },
 "nbformat": 4,
 "nbformat_minor": 4
}
